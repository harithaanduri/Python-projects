{
  "nbformat": 4,
  "nbformat_minor": 0,
  "metadata": {
    "colab": {
      "provenance": []
    },
    "kernelspec": {
      "name": "python3",
      "display_name": "Python 3"
    },
    "language_info": {
      "name": "python"
    }
  },
  "cells": [
    {
      "cell_type": "markdown",
      "source": [
        "#Q1: You are working in a bank, and you have been given two lists of the employees who worked in 2021.\n",
        "Employees’ names in list 1 are Ramesh, Suresh, Mahesh, Ali, Jacob, and Saritha.\n",
        "List 2 contains the names of Ali, Mukesh, Mahesh, Jacob, Sai, and Sarita.\n",
        "Please write a program that helps to identify people who are common in both lists. Please do not use any in-built function.\n"
      ],
      "metadata": {
        "id": "KQH9ET70eN0N"
      }
    },
    {
      "cell_type": "code",
      "execution_count": null,
      "metadata": {
        "id": "qW5cUi8sd7WJ"
      },
      "outputs": [],
      "source": [
        "L1 = ['Ramesh','Suresh','Mahesh','Ali','Jacob','Saritha']\n",
        "L2 = ['Ali','Mukesh','Mahesh','Jacob','Sai','Sarita']"
      ]
    },
    {
      "cell_type": "code",
      "source": [
        "for i in L1:\n",
        "  for j in L2:\n",
        "    if i==j:\n",
        "      print(i)\n",
        "\n"
      ],
      "metadata": {
        "colab": {
          "base_uri": "https://localhost:8080/"
        },
        "id": "MIpz48XJeM44",
        "outputId": "db762cf8-47b9-48f4-85a0-31b5334f4153"
      },
      "execution_count": null,
      "outputs": [
        {
          "output_type": "stream",
          "name": "stdout",
          "text": [
            "Mahesh\n",
            "Ali\n",
            "Jacob\n"
          ]
        }
      ]
    },
    {
      "cell_type": "markdown",
      "source": [
        "Q2: While entering data, someone entered a few names as a common string “Ramesh Suresh Mohit”. Please write a program which separates all the names and converts them into a list. Once converted into a list, please write a program that adds their age.\n",
        "\n",
        "Ramesh:  25\n",
        "\n",
        "Suresh: 22\n",
        "\n",
        "Mohit: 26\n",
        "\n",
        "\n",
        "\n"
      ],
      "metadata": {
        "id": "t3YdRvOReLn3"
      }
    },
    {
      "cell_type": "code",
      "source": [
        "s = 'Ramesh Suresh Mohit'\n",
        "l3=(s.split())\n",
        "l3\n",
        "print(l3[0],':',25)\n",
        "print(l3[1],':',22)\n",
        "print(l3[2],':',26)\n",
        "\n",
        "\n",
        "\n",
        "\n",
        "\n"
      ],
      "metadata": {
        "colab": {
          "base_uri": "https://localhost:8080/"
        },
        "id": "bsQ_VOYweJuR",
        "outputId": "e28f5abf-3a02-41b9-8ba9-0fba728708b5"
      },
      "execution_count": null,
      "outputs": [
        {
          "output_type": "stream",
          "name": "stdout",
          "text": [
            "Ramesh : 25\n",
            "Suresh : 22\n",
            "Mohit : 26\n"
          ]
        }
      ]
    },
    {
      "cell_type": "markdown",
      "source": [
        "Q3: You are working in a medical store. A patient came to your medical store and asked to buy 2 strips of paracetamol, 3 strips of azithromycin, and 5 strips of Vitamin C. One strip of paracetamol costs Rs 35, one strip of azithromycin costs Rs 49, and one strip of vitamin c costs Rs. 33. Patient gave you Rs 2000. Please tell us what is the total cost of each medicine, the total cost of all medicine, and how much money you refunded to the patient.  \n",
        "\n"
      ],
      "metadata": {
        "id": "55T_jXgSk6N4"
      }
    },
    {
      "cell_type": "markdown",
      "source": [],
      "metadata": {
        "id": "ecTuDUXlk4KS"
      }
    },
    {
      "cell_type": "code",
      "source": [
        "medicine_price = {'paracetamal':35,'azithromycin':49,'Vitamin_C':33}\n",
        "purchase_qty = {'paracetamal':2,'azithromycin':3,'Vitamin_C':5}\n",
        "tot_cst_prctml = medicine_price['paracetamal']*purchase_qty['paracetamal']\n",
        "tot_cst_azithromycin = medicine_price['azithromycin']*purchase_qty['azithromycin']\n",
        "tot_cst_vitamin_c = medicine_price['Vitamin_C']*purchase_qty['Vitamin_C']\n",
        "tot_medicinecost = tot_cst_prctml + tot_cst_azithromycin + tot_cst_vitamin_c\n",
        "tot_medicinecost\n",
        "cust_given_amt =2000\n",
        "refund = cust_given_amt-tot_medicinecost\n",
        "blnce = tot_medicinecost-cust_given_amt\n",
        "\n",
        "print('total cost of paracetmal is:',tot_cst_prctml)\n",
        "print('total cost of azithromycin is:',tot_cst_azithromycin)\n",
        "print('total cost of vitamin_c is:',tot_cst_vitamin_c)\n",
        "print('total medicine cost is:',tot_medicinecost)\n",
        "\n",
        "if tot_medicinecost<2000:\n",
        "  print ('refund amount is:',refund)\n",
        "if tot_medicinecost >2000:\n",
        "  print('balance amt is:',blnce)\n",
        "\n",
        "\n"
      ],
      "metadata": {
        "id": "0b11hwIfk3ls",
        "colab": {
          "base_uri": "https://localhost:8080/"
        },
        "outputId": "77a942e4-0013-4eef-8986-6cd6a7511d43"
      },
      "execution_count": null,
      "outputs": [
        {
          "output_type": "stream",
          "name": "stdout",
          "text": [
            "total cost of paracetmal is: 70\n",
            "total cost of azithromycin is: 147\n",
            "total cost of vitamin_c is: 165\n",
            "total medicine cost is: 382\n",
            "refund amount is: 1618\n"
          ]
        }
      ]
    },
    {
      "cell_type": "markdown",
      "source": [
        "Q4: Accept a sentence as input and find the number of vowels in it. Assume that the sentence has no punctuation marks. For example, I am learning python contains 6 vowels. This function should be applicable for all other different sentences.\n",
        "\n"
      ],
      "metadata": {
        "id": "kbO4DLePdfvi"
      }
    },
    {
      "cell_type": "code",
      "source": [
        "s = input()\n",
        "v = ('a,e,i,o,u')\n",
        "count=0\n",
        "for i in v:\n",
        "  if i in s:\n",
        "    count =count + 1\n",
        "print(count)\n"
      ],
      "metadata": {
        "id": "ZILokeGOdFv4",
        "colab": {
          "base_uri": "https://localhost:8080/"
        },
        "outputId": "10434b75-b986-473b-ebff-39d3d4426d20"
      },
      "execution_count": null,
      "outputs": [
        {
          "output_type": "stream",
          "name": "stdout",
          "text": [
            "iamharitha\n",
            "2\n"
          ]
        }
      ]
    },
    {
      "cell_type": "code",
      "source": [
        "s = input()\n",
        "v = ('a,e,i,o,u')\n",
        "count=0\n",
        "for i in v:\n",
        "  if i in s:\n",
        "    count =count + 1\n",
        "    print(i,count)\n"
      ],
      "metadata": {
        "colab": {
          "base_uri": "https://localhost:8080/"
        },
        "id": "I-fDCARR0lSw",
        "outputId": "e22f9148-ff4d-4ba4-c12c-f3657778d78c"
      },
      "execution_count": null,
      "outputs": [
        {
          "output_type": "stream",
          "name": "stdout",
          "text": [
            "iamharitha\n",
            "a 1\n",
            "i 2\n"
          ]
        }
      ]
    },
    {
      "cell_type": "markdown",
      "source": [
        "Q5: You have been appointed by the election commission to create a website. Your first task is to work on a program which tells candidates if they are eligible for voting or not. If they are eligible, your output should be ‘Congrats! You are eligible’; otherwise, it should tell that you have to return after X number of years. The eligibility criteria for voting is 18 years.\n",
        "\n",
        "\n",
        "\n",
        "For example, If someone is 18 or above, your output should be ‘Congrats! You are eligible’. If someone’s age is 15 years, it should print output as ‘return after 3 years’.   \n",
        "\n"
      ],
      "metadata": {
        "id": "3zrYRUm2foJR"
      }
    },
    {
      "cell_type": "code",
      "source": [
        "a =int(input('enter your age for voting:'))\n",
        "b = 18-a\n",
        "if a >= 18:\n",
        "  print('Congrats! You are eligible')\n",
        "else:\n",
        "  txt='return after {} years'\n",
        "  print(txt.format(b))"
      ],
      "metadata": {
        "colab": {
          "base_uri": "https://localhost:8080/"
        },
        "id": "CYuyqGPJhOzi",
        "outputId": "018439f8-ec20-4b63-d3e1-f2a2d5729d3f"
      },
      "execution_count": null,
      "outputs": [
        {
          "output_type": "stream",
          "name": "stdout",
          "text": [
            "enter your age for voting:10\n",
            "return after 8 years\n"
          ]
        }
      ]
    },
    {
      "cell_type": "markdown",
      "source": [
        "Q6: Given a list of integers, find the cumulative sum of the elements of the list and store them in another list.\n",
        "\n",
        "\n",
        "\n",
        "A = [1, 2, 3, 4, 5]\n",
        "\n",
        "\n",
        "\n",
        "Output:\n",
        "\n",
        "[1, 3, 6, 10, 15]\n",
        "\n"
      ],
      "metadata": {
        "id": "TRh9IwnNzKIr"
      }
    },
    {
      "cell_type": "code",
      "source": [
        "A = [1, 2, 3, 4, 5]\n",
        "b =[]\n",
        "sum = 0\n",
        "for i in A:\n",
        "  sum = sum+i\n",
        "  b.append(sum)\n",
        "print(b)\n"
      ],
      "metadata": {
        "colab": {
          "base_uri": "https://localhost:8080/"
        },
        "id": "YMnjbpfAzZOu",
        "outputId": "726e8856-456f-45b6-b226-a6e86d40c16e"
      },
      "execution_count": null,
      "outputs": [
        {
          "output_type": "stream",
          "name": "stdout",
          "text": [
            "[1, 3, 6, 10, 15]\n"
          ]
        }
      ]
    },
    {
      "cell_type": "markdown",
      "source": [
        "Q7:\n",
        "\n",
        "WAP to encode a message entered by user as per below conditions:\n",
        "\n",
        "\n",
        "\n",
        "for every word in the sentence,\n",
        "\n",
        "1. If the word starts with a vowel, encode it as the first and last letter of the word.\n",
        "\n",
        "2. If the word starts with a consonant, remove all vowels from it.\n",
        "\n",
        "\n",
        "\n",
        "Ensure the case insensitive comparisons/checks are performed.\n",
        "\n",
        "\n",
        "\n",
        "Please enter your text:The quick brown fox used to sleep inside this box\n",
        "\n",
        "Encoded Msg: Th qck brwn fx ud t slp ie ths bx\n",
        "\n",
        "\n",
        "\n"
      ],
      "metadata": {
        "id": "Fl9bKbVE380n"
      }
    },
    {
      "cell_type": "code",
      "source": [
        "s = input('enter input:')\n",
        "s= s.lower()\n",
        "s1=s.split()\n",
        "s1\n",
        "s2 =[]\n",
        "\n",
        "v=['a','e','i','o','u']\n",
        "for i in s1:\n",
        "  if i[0] not in v:\n",
        "     s2.append(i)\n",
        "for k in s2:\n",
        "\n",
        "       print(k.translate({ord(k): None for k in 'aeiou'}))\n",
        "\n",
        "\n",
        "v = ['a','e','i','o','u']\n",
        "for i in v:\n",
        "  for j in s1:\n",
        "    if i in j[0]:\n",
        "      print(j.replace(j[1:-1],''))\n",
        "\n",
        "\n",
        "\n"
      ],
      "metadata": {
        "colab": {
          "base_uri": "https://localhost:8080/"
        },
        "id": "E7Ue0PF2lkbX",
        "outputId": "577e09b6-a2e7-4738-f79c-b3fe85b0f5a9"
      },
      "execution_count": 2,
      "outputs": [
        {
          "output_type": "stream",
          "name": "stdout",
          "text": [
            "enter input:The quick brown fox used to sleep inside this box\n",
            "th\n",
            "qck\n",
            "brwn\n",
            "fx\n",
            "t\n",
            "slp\n",
            "ths\n",
            "bx\n",
            "ie\n",
            "ud\n"
          ]
        }
      ]
    },
    {
      "cell_type": "code",
      "source": [],
      "metadata": {
        "id": "B88svNR4j-lf"
      },
      "execution_count": null,
      "outputs": []
    },
    {
      "cell_type": "code",
      "source": [],
      "metadata": {
        "id": "o494b46Ou3Ky"
      },
      "execution_count": null,
      "outputs": []
    },
    {
      "cell_type": "markdown",
      "source": [
        "Q8:\n",
        "\n",
        "Write a program to implement run length encoding of a string\n",
        "\n",
        "\n",
        "\n",
        "RLE:Consecutive repetition of a character has to be replaced with the count of occurrences and the character.\n",
        "\n",
        "\n",
        "\n",
        "Enter your string :aabbbccdddae\n",
        "\n",
        "Encoded: 2a3b2c3d1a1e"
      ],
      "metadata": {
        "id": "B9cLDbY86hxF"
      }
    },
    {
      "cell_type": "code",
      "source": [
        "s = 'aabbbccdddae'\n",
        "len(s)\n",
        "encoded_s=''\n",
        "i = 0\n",
        "count = 1\n",
        "for i in range(0,len(s)-1):\n",
        "  if s[i] ==s[i+1]:\n",
        "    count = count+1\n",
        "  else:\n",
        "    encoded_s = encoded_s+str(count)+s[i]\n",
        "    count = 1\n",
        "\n",
        "\n",
        "encoded_s = encoded_s+str(count)+s[i+1]\n",
        "\n",
        "print(encoded_s)\n",
        "\n",
        "\n",
        "\n",
        "\n",
        "\n",
        "\n",
        "\n",
        "\n",
        "\n"
      ],
      "metadata": {
        "colab": {
          "base_uri": "https://localhost:8080/"
        },
        "id": "PNO7MK3X6qrf",
        "outputId": "85cd1f9a-e504-4883-84cf-98b4f4f75304"
      },
      "execution_count": null,
      "outputs": [
        {
          "output_type": "stream",
          "name": "stdout",
          "text": [
            "2a3b2c3d1a1e\n"
          ]
        }
      ]
    },
    {
      "cell_type": "code",
      "source": [
        "s = 'aabbbccdddae'\n",
        "len(s)\n",
        "encoded_s=''\n",
        "i = 1\n",
        "count = 1\n",
        "for i in range(1,len(s)):\n",
        "  if s[i]==s[i-1]:\n",
        "    count += 1\n",
        "  else:\n",
        "    encoded_s = encoded_s + str(count) +s[i-1]\n",
        "    count = 1\n",
        "\n",
        "encoded_s = encoded_s + str(count) +s[-1]\n",
        "print(encoded_s)\n",
        "\n"
      ],
      "metadata": {
        "colab": {
          "base_uri": "https://localhost:8080/"
        },
        "id": "1oqC7gIKTfud",
        "outputId": "8ef11bc1-4246-44ce-99fa-bd66a7722ca7"
      },
      "execution_count": null,
      "outputs": [
        {
          "output_type": "stream",
          "name": "stdout",
          "text": [
            "2a3b2c3d1a1e\n"
          ]
        }
      ]
    }
  ]
}